{
 "cells": [
  {
   "cell_type": "code",
   "execution_count": 1,
   "metadata": {},
   "outputs": [],
   "source": [
    "import pandas as pd\n",
    "import numpy as np\n",
    "import os"
   ]
  },
  {
   "cell_type": "code",
   "execution_count": 3,
   "metadata": {},
   "outputs": [],
   "source": [
    "\n",
    "month = \"01\"\n",
    "project = \"756\"\n",
    "\n",
    "dataMerges = pd.read_csv(f\"./output/{month}_{project}_merge.csv\")\n",
    "unique_device_ids =list(dataMerges['DEVICE_ID'].unique())\n",
    "dataDict = {}\n",
    "\n",
    "for id in unique_device_ids:\n",
    "    dataDict[id] = []\n",
    "\n",
    "for index, row in dataMerges.iterrows():\n",
    "    my_row = [\n",
    "        row['DEVICE_ID'],\n",
    "        row['LON'],\n",
    "        row['LAT'],\n",
    "        row['TIME'],\n",
    "        row['PM2_5(μg/m3)'],\n",
    "        row['PM10(mg/m3)'],\n",
    "        row['TEMPERATURE(℃)'],\n",
    "        row['HUMIDITY(%)'],\n",
    "        row['WIND_SPEED(m/sec)'],\n",
    "        row['VOC(ppb)'],\n",
    "        row['WIND_DIRECT(degrees)']\n",
    "    ]\n",
    "    dataDict[row['DEVICE_ID']].append(my_row)\n",
    "\n",
    "\n",
    "    # Dictionary = {\n",
    "    #     \"DeviceA\": [[1, 2, 3], [4, 5, 6], [7, 8, 9]],\n",
    "    #     \"DeviceB\": [[1, 2, 3], [4, 5, 6], [7, 8, 9]],\n",
    "    #     \"DeviceC\": [[1, 2, 3], [4, 5, 6], [7, 8, 9]],\n",
    "    #     \"DeviceD\": [[1, 2, 3], [4, 5, 6], [7, 8, 9]],\n",
    "    # }\n",
    "    # np.array(Dictionary[\"DeviceA\"])\n",
    "\n",
    "    # for key in dataDict:\n",
    "    #     # dataDict[key]\n",
    "\n",
    "    #     try:\n",
    "    #         df = pd.DataFrame(np.array(dataDict[key]), columns=['DEVICE_ID','LON', 'LAT', 'TIME', 'PM2_5(μg/m3)','PM10(mg/m3)',\n",
    "    #                                                 'TEMPERATURE(℃)','HUMIDITY(%)','WIND_SPEED(m/sec)','VOC(ppb)',\n",
    "    #                                                 'WIND_DIRECT(degrees)'])\n",
    "            \n",
    "    #         filepath = os.path.join(output_path, f\"{key}_{month}_{project}.csv\")\n",
    "    #         df.to_csv(filepath)\n",
    "    #     except:\n",
    "    #         print(key)\n",
    "    #         print(np.array(dataDict[key]))\n",
    "    #         break\n",
    "    "
   ]
  },
  {
   "cell_type": "code",
   "execution_count": null,
   "metadata": {},
   "outputs": [],
   "source": []
  }
 ],
 "metadata": {
  "kernelspec": {
   "display_name": "Python 3",
   "language": "python",
   "name": "python3"
  },
  "language_info": {
   "codemirror_mode": {
    "name": "ipython",
    "version": 3
   },
   "file_extension": ".py",
   "mimetype": "text/x-python",
   "name": "python",
   "nbconvert_exporter": "python",
   "pygments_lexer": "ipython3",
   "version": "3.7.3"
  },
  "orig_nbformat": 4
 },
 "nbformat": 4,
 "nbformat_minor": 2
}
